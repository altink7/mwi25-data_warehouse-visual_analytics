{
 "nbformat": 4,
 "nbformat_minor": 0,
 "metadata": {
  "colab": {
   "provenance": [],
   "collapsed_sections": [
    "AuOY47kGOvC2"
   ],
   "toc_visible": true,
   "include_colab_link": true
  },
  "kernelspec": {
   "name": "python3",
   "display_name": "Python 3 (ipykernel)",
   "language": "python"
  },
  "language_info": {
   "name": "python"
  }
 },
 "cells": [
  {
   "cell_type": "markdown",
   "source": "# Data Warehouse Citibike AB",
   "metadata": {
    "id": "RjreYTH_PbTD"
   }
  },
  {
   "cell_type": "markdown",
   "source": [
    "## Project Info\n",
    "\n",
    "Group: **Citi Bike AB**\n",
    "\n",
    "Team Members: **Altin Kelmendi, Julian Hoffmann, Daniel Dodmasej, Clemens Hohensinner**\n",
    "\n",
    "\n"
   ],
   "metadata": {
    "id": "D6DgCqX1JPlF"
   }
  },
  {
   "cell_type": "markdown",
   "source": [
    "## Laden der Trainingsdaten\n",
    "Bevor wir mit der Analyse beginnen, laden wir die Daten in ein Pandas DataFrame. Die Dateien befinden sich im Verzeichnis /content/data/"
   ],
   "metadata": {
    "id": "RGSMZ8IDJuny"
   }
  },
  {
   "metadata": {
    "ExecuteTime": {
     "end_time": "2025-03-12T18:06:12.540183Z",
     "start_time": "2025-03-12T18:06:12.532039Z"
    }
   },
   "cell_type": "code",
   "source": [
    "import pandas as pd\n",
    "\n",
    "# Dateipfad\n",
    "path = \"/../content/data/citibike-data.csv\"\n",
    "\n",
    "# Lesen der Dateien\n",
    "df = pd.read_csv(path)\n",
    "\n",
    "# Anzeigen von Basisinformationen (Als Sicherung)\n",
    "df.info()\n",
    "df.head()\n",
    "\n",
    "# Fehlende Infos, zu berücksichtigen!\n",
    "missing_values = df.isnull().sum()\n",
    "missing_values = missing_values[missing_values > 0]\n",
    "print(\"---------\")\n",
    "print(\"Missing Values:\\n\", missing_values)"
   ],
   "outputs": [
    {
     "ename": "ModuleNotFoundError",
     "evalue": "No module named 'pandas'",
     "output_type": "error",
     "traceback": [
      "\u001B[0;31m---------------------------------------------------------------------------\u001B[0m",
      "\u001B[0;31mModuleNotFoundError\u001B[0m                       Traceback (most recent call last)",
      "Cell \u001B[0;32mIn[6], line 1\u001B[0m\n\u001B[0;32m----> 1\u001B[0m \u001B[38;5;28;01mimport\u001B[39;00m\u001B[38;5;250m \u001B[39m\u001B[38;5;21;01mpandas\u001B[39;00m\u001B[38;5;250m \u001B[39m\u001B[38;5;28;01mas\u001B[39;00m\u001B[38;5;250m \u001B[39m\u001B[38;5;21;01mpd\u001B[39;00m\n\u001B[1;32m      3\u001B[0m \u001B[38;5;66;03m# Dateipfad\u001B[39;00m\n\u001B[1;32m      4\u001B[0m path \u001B[38;5;241m=\u001B[39m \u001B[38;5;124m\"\u001B[39m\u001B[38;5;124m/../content/data/citibike-data.csv\u001B[39m\u001B[38;5;124m\"\u001B[39m\n",
      "\u001B[0;31mModuleNotFoundError\u001B[0m: No module named 'pandas'"
     ]
    }
   ],
   "execution_count": 6
  }
 ]
}
