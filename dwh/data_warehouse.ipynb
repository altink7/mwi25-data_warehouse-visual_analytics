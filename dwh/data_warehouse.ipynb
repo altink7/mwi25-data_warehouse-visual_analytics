{
  "nbformat": 4,
  "nbformat_minor": 0,
  "metadata": {
    "colab": {
      "provenance": []
    },
    "kernelspec": {
      "name": "python3",
      "display_name": "Python 3"
    },
    "language_info": {
      "name": "python"
    }
  },
  "cells": [
    {
      "cell_type": "markdown",
      "metadata": {
        "id": "view-in-github"
      },
      "source": [
        "<a href=\"https://colab.research.google.com/github/altink7/Visual-Analytics/blob/main/visual_analytics.ipynb\" target=\"_parent\"><img src=\"https://colab.research.google.com/assets/colab-badge.svg\" alt=\"Open In Colab\"/></a>"
      ]
    },
    {
      "cell_type": "markdown",
      "source": [
        "# Data Warehouse Citibike"
      ],
      "metadata": {
        "id": "RjreYTH_PbTD"
      }
    },
    {
      "cell_type": "markdown",
      "source": [
        "## Project Info\n",
        "\n",
        "Group: **Real estate**\n",
        "\n",
        "Team Members: **Altin Kelmendi, Julian Hoffmann, Daniel Dodmasej, Clemens Hohensinner**\n",
        "\n",
        "\n"
      ],
      "metadata": {
        "id": "D6DgCqX1JPlF"
      }
    },
    {
      "cell_type": "markdown",
      "source": [],
      "metadata": {
        "id": "VcSGC41ffLEo"
      }
    },
    {
      "cell_type": "markdown",
      "source": [
        "## Laden der Trainingsdaten\n",
        "Bevor wir mit der Analyse beginnen, laden wir die Daten in ein Pandas DataFrame. Die Dateien befinden sich im Verzeichnis /content/data/"
      ],
      "metadata": {
        "id": "RGSMZ8IDJuny"
      }
    },
    {
      "cell_type": "code",
      "source": [
        "import pandas as pd\n",
        "\n",
        "# Dateipfad\n",
        "path = \"/../content/data/citibike-data.csv\"\n",
        "\n",
        "# Lesen der Dateien\n",
        "df = pd.read_csv(path)\n",
        "\n",
        "# Anzeigen von Basisinformationen (Als Sicherung)\n",
        "df.info()\n",
        "df.head()\n",
        "\n",
        "# Fehlende Infos, zu berücksichtigen!\n",
        "missing_values = df.isnull().sum()\n",
        "missing_values = missing_values[missing_values > 0]\n",
        "print(\"---------\")\n",
        "print(\"Missing Values:\\n\", missing_values)\n"
      ],
      "metadata": {
        "colab": {
          "base_uri": "https://localhost:8080/"
        },
        "id": "MdtMX-MWJtt2",
        "outputId": "7caae082-4205-46e0-a886-1500cd1c4571"
      },
      "execution_count": null,
      "outputs": [
        {
          "output_type": "stream",
          "name": "stdout",
          "text": [
            "<class 'pandas.core.frame.DataFrame'>\n",
            "RangeIndex: 45255 entries, 0 to 45254\n",
            "Data columns (total 13 columns):\n",
            " #   Column              Non-Null Count  Dtype  \n",
            "---  ------              --------------  -----  \n",
            " 0   ride_id             45255 non-null  object \n",
            " 1   rideable_type       45255 non-null  object \n",
            " 2   started_at          45255 non-null  object \n",
            " 3   ended_at            45255 non-null  object \n",
            " 4   start_station_name  45255 non-null  object \n",
            " 5   start_station_id    45255 non-null  object \n",
            " 6   end_station_name    45149 non-null  object \n",
            " 7   end_station_id      45128 non-null  object \n",
            " 8   start_lat           45255 non-null  float64\n",
            " 9   start_lng           45255 non-null  float64\n",
            " 10  end_lat             45249 non-null  float64\n",
            " 11  end_lng             45249 non-null  float64\n",
            " 12  member_casual       45255 non-null  object \n",
            "dtypes: float64(4), object(9)\n",
            "memory usage: 4.5+ MB\n",
            "---------\n",
            "Missing Values:\n",
            " end_station_name    106\n",
            "end_station_id      127\n",
            "end_lat               6\n",
            "end_lng               6\n",
            "dtype: int64\n"
          ]
        }
      ]
    }
  ]
}